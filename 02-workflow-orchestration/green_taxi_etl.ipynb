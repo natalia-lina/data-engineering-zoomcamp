{
 "cells": [
  {
   "cell_type": "code",
   "execution_count": 13,
   "id": "5a619c6a",
   "metadata": {},
   "outputs": [],
   "source": [
    "import pandas as pd\n",
    "import os\n",
    "from pathlib import Path\n",
    "import re"
   ]
  },
  {
   "cell_type": "code",
   "execution_count": 14,
   "id": "a70fb0ad",
   "metadata": {},
   "outputs": [],
   "source": [
    "def change_case(str):\n",
    "    s1 = re.sub('(.)([A-Z][a-z]+)', r'\\1_\\2', str)\n",
    "    return re.sub('([a-z0-9])([A-Z])', r'\\1_\\2', s1).lower()"
   ]
  },
  {
   "cell_type": "code",
   "execution_count": 15,
   "id": "19b3bbfa",
   "metadata": {},
   "outputs": [],
   "source": [
    "DATA_PATH = Path('./data')"
   ]
  },
  {
   "cell_type": "code",
   "execution_count": 16,
   "id": "3868b12b",
   "metadata": {},
   "outputs": [
    {
     "name": "stderr",
     "output_type": "stream",
     "text": [
      "/tmp/ipykernel_7648/3588092489.py:1: DtypeWarning: Columns (3) have mixed types. Specify dtype option on import or set low_memory=False.\n",
      "  green_taxi_df = pd.concat([pd.read_csv(file) for file in DATA_PATH.iterdir()], ignore_index=True)\n",
      "/tmp/ipykernel_7648/3588092489.py:1: DtypeWarning: Columns (3) have mixed types. Specify dtype option on import or set low_memory=False.\n",
      "  green_taxi_df = pd.concat([pd.read_csv(file) for file in DATA_PATH.iterdir()], ignore_index=True)\n",
      "/tmp/ipykernel_7648/3588092489.py:1: DtypeWarning: Columns (3) have mixed types. Specify dtype option on import or set low_memory=False.\n",
      "  green_taxi_df = pd.concat([pd.read_csv(file) for file in DATA_PATH.iterdir()], ignore_index=True)\n",
      "/tmp/ipykernel_7648/3588092489.py:1: DtypeWarning: Columns (3) have mixed types. Specify dtype option on import or set low_memory=False.\n",
      "  green_taxi_df = pd.concat([pd.read_csv(file) for file in DATA_PATH.iterdir()], ignore_index=True)\n",
      "/tmp/ipykernel_7648/3588092489.py:1: DtypeWarning: Columns (3) have mixed types. Specify dtype option on import or set low_memory=False.\n",
      "  green_taxi_df = pd.concat([pd.read_csv(file) for file in DATA_PATH.iterdir()], ignore_index=True)\n",
      "/tmp/ipykernel_7648/3588092489.py:1: DtypeWarning: Columns (3) have mixed types. Specify dtype option on import or set low_memory=False.\n",
      "  green_taxi_df = pd.concat([pd.read_csv(file) for file in DATA_PATH.iterdir()], ignore_index=True)\n"
     ]
    }
   ],
   "source": [
    "green_taxi_df = pd.concat([pd.read_csv(file) for file in DATA_PATH.iterdir()], ignore_index=True)"
   ]
  },
  {
   "cell_type": "code",
   "execution_count": 17,
   "id": "9e152cb8",
   "metadata": {},
   "outputs": [
    {
     "data": {
      "text/plain": [
       "Index(['VendorID', 'lpep_pickup_datetime', 'lpep_dropoff_datetime',\n",
       "       'store_and_fwd_flag', 'RatecodeID', 'PULocationID', 'DOLocationID',\n",
       "       'passenger_count', 'trip_distance', 'fare_amount', 'extra', 'mta_tax',\n",
       "       'tip_amount', 'tolls_amount', 'ehail_fee', 'improvement_surcharge',\n",
       "       'total_amount', 'payment_type', 'trip_type', 'congestion_surcharge'],\n",
       "      dtype='object')"
      ]
     },
     "execution_count": 17,
     "metadata": {},
     "output_type": "execute_result"
    },
    {
     "data": {
      "text/plain": [
       "Index(['VendorID', 'lpep_pickup_datetime', 'lpep_dropoff_datetime',\n",
       "       'store_and_fwd_flag', 'RatecodeID', 'PULocationID', 'DOLocationID',\n",
       "       'passenger_count', 'trip_distance', 'fare_amount', 'extra', 'mta_tax',\n",
       "       'tip_amount', 'tolls_amount', 'ehail_fee', 'improvement_surcharge',\n",
       "       'total_amount', 'payment_type', 'trip_type', 'congestion_surcharge'],\n",
       "      dtype='object')"
      ]
     },
     "execution_count": 17,
     "metadata": {},
     "output_type": "execute_result"
    }
   ],
   "source": [
    "green_taxi_df.columns"
   ]
  },
  {
   "cell_type": "markdown",
   "id": "f15aff28",
   "metadata": {},
   "source": [
    "### Remove rows where the passenger count is equal to 0 or the trip distance is equal to zero. "
   ]
  },
  {
   "cell_type": "code",
   "execution_count": 18,
   "id": "63e86d70",
   "metadata": {},
   "outputs": [],
   "source": [
    "green_taxi_df = green_taxi_df[green_taxi_df.passenger_count != 0]\n",
    "green_taxi_df = green_taxi_df[green_taxi_df.trip_distance != 0]"
   ]
  },
  {
   "cell_type": "markdown",
   "id": "3e1782b8",
   "metadata": {},
   "source": [
    "### Create a new column lpep_pickup_date by converting lpep_pickup_datetime to a date."
   ]
  },
  {
   "cell_type": "code",
   "execution_count": 19,
   "id": "9c434700",
   "metadata": {},
   "outputs": [],
   "source": [
    "green_taxi_df['lpep_pickup_date'] = pd.to_datetime(green_taxi_df.lpep_pickup_datetime).dt.date"
   ]
  },
  {
   "cell_type": "markdown",
   "id": "d5306f34",
   "metadata": {},
   "source": [
    "### Rename columns in Camel Case to Snake Case, e.g. VendorID to vendor_id."
   ]
  },
  {
   "cell_type": "code",
   "execution_count": 20,
   "id": "f66327b1",
   "metadata": {},
   "outputs": [],
   "source": [
    "for column in green_taxi_df.columns:\n",
    "    if column != column.lower(): \n",
    "        green_taxi_df = green_taxi_df.rename(columns={column: change_case(column)})"
   ]
  },
  {
   "cell_type": "code",
   "execution_count": 21,
   "id": "552ed301",
   "metadata": {},
   "outputs": [
    {
     "data": {
      "text/plain": [
       "['vendor_id',\n",
       " 'lpep_pickup_datetime',\n",
       " 'lpep_dropoff_datetime',\n",
       " 'store_and_fwd_flag',\n",
       " 'ratecode_id',\n",
       " 'pu_location_id',\n",
       " 'do_location_id',\n",
       " 'passenger_count',\n",
       " 'trip_distance',\n",
       " 'fare_amount',\n",
       " 'extra',\n",
       " 'mta_tax',\n",
       " 'tip_amount',\n",
       " 'tolls_amount',\n",
       " 'ehail_fee',\n",
       " 'improvement_surcharge',\n",
       " 'total_amount',\n",
       " 'payment_type',\n",
       " 'trip_type',\n",
       " 'congestion_surcharge',\n",
       " 'lpep_pickup_date']"
      ]
     },
     "execution_count": 21,
     "metadata": {},
     "output_type": "execute_result"
    },
    {
     "data": {
      "text/plain": [
       "['vendor_id',\n",
       " 'lpep_pickup_datetime',\n",
       " 'lpep_dropoff_datetime',\n",
       " 'store_and_fwd_flag',\n",
       " 'ratecode_id',\n",
       " 'pu_location_id',\n",
       " 'do_location_id',\n",
       " 'passenger_count',\n",
       " 'trip_distance',\n",
       " 'fare_amount',\n",
       " 'extra',\n",
       " 'mta_tax',\n",
       " 'tip_amount',\n",
       " 'tolls_amount',\n",
       " 'ehail_fee',\n",
       " 'improvement_surcharge',\n",
       " 'total_amount',\n",
       " 'payment_type',\n",
       " 'trip_type',\n",
       " 'congestion_surcharge',\n",
       " 'lpep_pickup_date']"
      ]
     },
     "execution_count": 21,
     "metadata": {},
     "output_type": "execute_result"
    }
   ],
   "source": [
    "list(green_taxi_df.columns)"
   ]
  },
  {
   "cell_type": "code",
   "execution_count": null,
   "id": "4e069a88",
   "metadata": {},
   "outputs": [],
   "source": []
  }
 ],
 "metadata": {
  "kernelspec": {
   "display_name": "Python 3 (ipykernel)",
   "language": "python",
   "name": "python3"
  },
  "language_info": {
   "codemirror_mode": {
    "name": "ipython",
    "version": 3
   },
   "file_extension": ".py",
   "mimetype": "text/x-python",
   "name": "python",
   "nbconvert_exporter": "python",
   "pygments_lexer": "ipython3",
   "version": "3.11.2"
  }
 },
 "nbformat": 4,
 "nbformat_minor": 5
}
