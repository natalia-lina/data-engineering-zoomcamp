{
 "cells": [
  {
   "cell_type": "code",
   "execution_count": 1,
   "id": "5a619c6a",
   "metadata": {},
   "outputs": [],
   "source": [
    "import pandas as pd\n",
    "import os\n",
    "from pathlib import Path"
   ]
  },
  {
   "cell_type": "code",
   "execution_count": 2,
   "id": "ca2b56d7",
   "metadata": {},
   "outputs": [],
   "source": [
    "DATA_PATH = Path('./data')"
   ]
  },
  {
   "cell_type": "code",
   "execution_count": 3,
   "id": "44fc3800",
   "metadata": {},
   "outputs": [
    {
     "name": "stderr",
     "output_type": "stream",
     "text": [
      "/tmp/ipykernel_6278/3588092489.py:1: DtypeWarning: Columns (3) have mixed types. Specify dtype option on import or set low_memory=False.\n",
      "  green_taxi_df = pd.concat([pd.read_csv(file) for file in DATA_PATH.iterdir()], ignore_index=True)\n",
      "/tmp/ipykernel_6278/3588092489.py:1: DtypeWarning: Columns (3) have mixed types. Specify dtype option on import or set low_memory=False.\n",
      "  green_taxi_df = pd.concat([pd.read_csv(file) for file in DATA_PATH.iterdir()], ignore_index=True)\n",
      "/tmp/ipykernel_6278/3588092489.py:1: DtypeWarning: Columns (3) have mixed types. Specify dtype option on import or set low_memory=False.\n",
      "  green_taxi_df = pd.concat([pd.read_csv(file) for file in DATA_PATH.iterdir()], ignore_index=True)\n"
     ]
    }
   ],
   "source": [
    "green_taxi_df = pd.concat([pd.read_csv(file) for file in DATA_PATH.iterdir()], ignore_index=True)"
   ]
  },
  {
   "cell_type": "code",
   "execution_count": 4,
   "id": "ad4b6608",
   "metadata": {},
   "outputs": [
    {
     "data": {
      "text/plain": [
       "Index(['VendorID', 'lpep_pickup_datetime', 'lpep_dropoff_datetime',\n",
       "       'store_and_fwd_flag', 'RatecodeID', 'PULocationID', 'DOLocationID',\n",
       "       'passenger_count', 'trip_distance', 'fare_amount', 'extra', 'mta_tax',\n",
       "       'tip_amount', 'tolls_amount', 'ehail_fee', 'improvement_surcharge',\n",
       "       'total_amount', 'payment_type', 'trip_type', 'congestion_surcharge'],\n",
       "      dtype='object')"
      ]
     },
     "execution_count": 4,
     "metadata": {},
     "output_type": "execute_result"
    }
   ],
   "source": [
    "green_taxi_df.columns"
   ]
  },
  {
   "cell_type": "code",
   "execution_count": 5,
   "id": "be953709",
   "metadata": {},
   "outputs": [],
   "source": [
    "green_taxi_df = green_taxi_df[green_taxi_df.passenger_count != 0]"
   ]
  },
  {
   "cell_type": "code",
   "execution_count": 6,
   "id": "ddd3e7a8",
   "metadata": {},
   "outputs": [],
   "source": [
    "green_taxi_df = green_taxi_df[green_taxi_df.trip_distance != 0]"
   ]
  },
  {
   "cell_type": "code",
   "execution_count": 12,
   "id": "8fc764f3",
   "metadata": {},
   "outputs": [],
   "source": [
    "camel_case_patterns = "
   ]
  },
  {
   "cell_type": "code",
   "execution_count": 14,
   "id": "7e4ddd23",
   "metadata": {},
   "outputs": [],
   "source": [
    "s = 'PULocationID'"
   ]
  },
  {
   "cell_type": "code",
   "execution_count": 15,
   "id": "32725c5d",
   "metadata": {},
   "outputs": [],
   "source": [
    "for pattern in ('(.)([A-Z][a-z]+)', '([a-z0-9])([A-Z])'):\n",
    "    s = re.sub(pattern, r'\\1_\\2', s)\n",
    "s = s.lower()"
   ]
  },
  {
   "cell_type": "code",
   "execution_count": 16,
   "id": "cce73397",
   "metadata": {},
   "outputs": [
    {
     "data": {
      "text/plain": [
       "'pu_location_id'"
      ]
     },
     "execution_count": 16,
     "metadata": {},
     "output_type": "execute_result"
    }
   ],
   "source": [
    "s"
   ]
  },
  {
   "cell_type": "code",
   "execution_count": 9,
   "id": "8e61dc28",
   "metadata": {},
   "outputs": [],
   "source": [
    "import re\n",
    " \n",
    "def change_case(str):\n",
    "    s1 = re.sub('(.)([A-Z][a-z]+)', r'\\1_\\2', str)\n",
    "    return re.sub('([a-z0-9])([A-Z])', r'\\1_\\2', s1).lower(), s1"
   ]
  },
  {
   "cell_type": "code",
   "execution_count": 11,
   "id": "f2053ea7",
   "metadata": {},
   "outputs": [
    {
     "data": {
      "text/plain": [
       "('pu_location_id', 'PU_LocationID')"
      ]
     },
     "execution_count": 11,
     "metadata": {},
     "output_type": "execute_result"
    }
   ],
   "source": [
    "change_case('PULocationID')"
   ]
  }
 ],
 "metadata": {
  "kernelspec": {
   "display_name": "Python 3 (ipykernel)",
   "language": "python",
   "name": "python3"
  },
  "language_info": {
   "codemirror_mode": {
    "name": "ipython",
    "version": 3
   },
   "file_extension": ".py",
   "mimetype": "text/x-python",
   "name": "python",
   "nbconvert_exporter": "python",
   "pygments_lexer": "ipython3",
   "version": "3.11.2"
  }
 },
 "nbformat": 4,
 "nbformat_minor": 5
}
